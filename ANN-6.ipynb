{
 "cells": [
  {
   "cell_type": "code",
   "execution_count": 7,
   "id": "52071b27-c465-4d99-873c-714f5e7144f8",
   "metadata": {},
   "outputs": [
    {
     "name": "stdout",
     "output_type": "stream",
     "text": [
      "Error at epoch 0: 0.5001924720131745\n",
      "Error at epoch 1000: 0.4631377052995449\n",
      "Error at epoch 2000: 0.21794071206086268\n",
      "Error at epoch 3000: 0.12031131118002134\n",
      "Error at epoch 4000: 0.08744329622255059\n",
      "Error at epoch 5000: 0.0709027311650652\n",
      "Error at epoch 6000: 0.06075526766437872\n",
      "Error at epoch 7000: 0.05379556852126094\n",
      "Error at epoch 8000: 0.04867191081497479\n",
      "Error at epoch 9000: 0.044711355147503615\n",
      "Predictions:\n",
      "[[0]\n",
      " [1]\n",
      " [1]\n",
      " [0]]\n"
     ]
    }
   ],
   "source": [
    "import numpy as np\n",
    "\n",
    "class NeuralNetwork:\n",
    "    \n",
    "    def __init__(self, input_size, hidden_size, output_size):\n",
    "        self.W1 = np.random.randn(input_size, hidden_size)\n",
    "        self.b1 = np.zeros((1, hidden_size))\n",
    "        self.W2 = np.random.randn(hidden_size, output_size)\n",
    "        self.b2 = np.zeros((1, output_size))\n",
    "        \n",
    "    def sigmoid(self, x):\n",
    "        return 1 / (1 + np.exp(-x))\n",
    "    \n",
    "    def sigmoid_derivative(self, x):\n",
    "        return x * (1 - x)\n",
    "    \n",
    "    def forward_propagation(self, X):\n",
    "        self.z1 = np.dot(X, self.W1) + self.b1\n",
    "        self.a1 = self.sigmoid(self.z1)\n",
    "        self.z2 = np.dot(self.a1, self.W2) + self.b2\n",
    "        self.y_hat = self.sigmoid(self.z2)\n",
    "        return self.y_hat\n",
    "    \n",
    "    def backward_propagation(self, X, y, y_hat, learning_rate):\n",
    "        self.error = y - y_hat\n",
    "        self.delta2 = self.error * self.sigmoid_derivative(y_hat)\n",
    "        self.a1_error = self.delta2.dot(self.W2.T)\n",
    "        self.delta1 = self.a1_error * self.sigmoid_derivative(self.a1)\n",
    "        \n",
    "        self.W2 += learning_rate * self.a1.T.dot(self.delta2)\n",
    "        self.b2 += learning_rate * np.sum(self.delta2, axis=0, keepdims=True)\n",
    "        self.W1 += learning_rate * X.T.dot(self.delta1)\n",
    "        self.b1 += learning_rate * np.sum(self.delta1, axis=0)\n",
    "        \n",
    "    def train(self, X, y, epochs, lr):\n",
    "        for i in range(epochs):\n",
    "            y_hat = self.forward_propagation(X)\n",
    "            self.backward_propagation(X, y, y_hat, lr)\n",
    "            if i % 1000 == 0:\n",
    "                print(f\"Error at epoch {i}: {np.mean(np.abs(self.error))}\")\n",
    "                \n",
    "    def predict(self, X):\n",
    "        y_hat = self.forward_propagation(X)\n",
    "        return (y_hat > 0.5).astype(int)\n",
    "\n",
    "\n",
    "# Define the XOR input and output datasets\n",
    "X = np.array([[0, 0], [0, 1], [1, 0], [1, 1]])\n",
    "y = np.array([[0], [1], [1], [0]])\n",
    "\n",
    "# Create and train the neural network\n",
    "nn = NeuralNetwork(input_size=2, hidden_size=4, output_size=1)\n",
    "nn.train(X, y, epochs=10000, lr=0.1)\n",
    "\n",
    "# Predictions\n",
    "predictions = nn.predict(X)\n",
    "print(\"Predictions:\")\n",
    "print(predictions)\n"
   ]
  },
  {
   "cell_type": "code",
   "execution_count": null,
   "id": "69dc4c8d-3817-4dc8-8c83-82cdd8e2b215",
   "metadata": {},
   "outputs": [],
   "source": []
  }
 ],
 "metadata": {
  "kernelspec": {
   "display_name": "Python 3 (ipykernel)",
   "language": "python",
   "name": "python3"
  },
  "language_info": {
   "codemirror_mode": {
    "name": "ipython",
    "version": 3
   },
   "file_extension": ".py",
   "mimetype": "text/x-python",
   "name": "python",
   "nbconvert_exporter": "python",
   "pygments_lexer": "ipython3",
   "version": "3.12.7"
  }
 },
 "nbformat": 4,
 "nbformat_minor": 5
}
