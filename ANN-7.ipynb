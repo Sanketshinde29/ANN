{
 "cells": [
  {
   "cell_type": "code",
   "execution_count": 1,
   "id": "612bada8-af35-417b-afbb-1bc8bab101ac",
   "metadata": {},
   "outputs": [
    {
     "name": "stdout",
     "output_type": "stream",
     "text": [
      "Epoch 0: Error = 0.4978\n",
      "Epoch 1000: Error = 0.4481\n",
      "Epoch 2000: Error = 0.3627\n",
      "Epoch 3000: Error = 0.3229\n",
      "Epoch 4000: Error = 0.3049\n",
      "Epoch 5000: Error = 0.2949\n",
      "Epoch 6000: Error = 0.2885\n",
      "Epoch 7000: Error = 0.2841\n",
      "Epoch 8000: Error = 0.2807\n",
      "Epoch 9000: Error = 0.2781\n",
      "Raw predictions:\n",
      " [[0.04511763]\n",
      " [0.94704773]\n",
      " [0.4968917 ]\n",
      " [0.50295181]]\n",
      "Binary predictions:\n",
      " [[0]\n",
      " [1]\n",
      " [0]\n",
      " [1]]\n"
     ]
    }
   ],
   "source": [
    "import numpy as np\n",
    "\n",
    "class XORNetwork:\n",
    "    def __init__(self):\n",
    "        self.W1 = np.random.randn(2, 2)\n",
    "        self.b1 = np.random.randn(2)\n",
    "        self.W2 = np.random.randn(2, 1)\n",
    "        self.b2 = np.random.randn(1)\n",
    "\n",
    "    def sigmoid(self, x):\n",
    "        return 1 / (1 + np.exp(-x))\n",
    "\n",
    "    def sigmoid_derivative(self, x):\n",
    "        return x * (1 - x)\n",
    "\n",
    "    def forward(self, X):\n",
    "        self.z1 = np.dot(X, self.W1) + self.b1\n",
    "        self.a1 = self.sigmoid(self.z1)\n",
    "        self.z2 = np.dot(self.a1, self.W2) + self.b2\n",
    "        self.a2 = self.sigmoid(self.z2)\n",
    "        return self.a2\n",
    "\n",
    "    def backward(self, X, y, output, learning_rate):\n",
    "        output_error = y - output\n",
    "        output_delta = output_error * self.sigmoid_derivative(output)\n",
    "\n",
    "        z1_error = output_delta.dot(self.W2.T)\n",
    "        z1_delta = z1_error * self.sigmoid_derivative(self.a1)\n",
    "\n",
    "        self.W1 += learning_rate * X.T.dot(z1_delta)\n",
    "        self.b1 += learning_rate * np.sum(z1_delta, axis=0)\n",
    "        self.W2 += learning_rate * self.a1.T.dot(output_delta)\n",
    "        self.b2 += learning_rate * np.sum(output_delta, axis=0)\n",
    "\n",
    "    def train(self, X, y, epochs, learning_rate=0.1):\n",
    "        for i in range(epochs):\n",
    "            output = self.forward(X)\n",
    "            self.backward(X, y, output, learning_rate)\n",
    "            if i % 1000 == 0:\n",
    "                loss = np.mean(np.abs(y - output))\n",
    "                print(f\"Epoch {i}: Error = {loss:.4f}\")\n",
    "\n",
    "    def predict(self, X):\n",
    "        return self.forward(X)\n",
    "\n",
    "# XOR data\n",
    "X = np.array([[0, 0], [0, 1], [1, 0], [1, 1]])\n",
    "y = np.array([[0], [1], [1], [0]])\n",
    "\n",
    "# Train and test\n",
    "xor_nn = XORNetwork()\n",
    "xor_nn.train(X, y, epochs=10000, learning_rate=0.1)\n",
    "predictions = xor_nn.predict(X)\n",
    "\n",
    "# Print raw and rounded predictions\n",
    "print(\"Raw predictions:\\n\", predictions)\n",
    "print(\"Binary predictions:\\n\", (predictions > 0.5).astype(int))\n"
   ]
  },
  {
   "cell_type": "code",
   "execution_count": null,
   "id": "8855f27d-a4f7-4932-9df4-0f43130a7f28",
   "metadata": {},
   "outputs": [],
   "source": []
  }
 ],
 "metadata": {
  "kernelspec": {
   "display_name": "Python 3 (ipykernel)",
   "language": "python",
   "name": "python3"
  },
  "language_info": {
   "codemirror_mode": {
    "name": "ipython",
    "version": 3
   },
   "file_extension": ".py",
   "mimetype": "text/x-python",
   "name": "python",
   "nbconvert_exporter": "python",
   "pygments_lexer": "ipython3",
   "version": "3.12.7"
  }
 },
 "nbformat": 4,
 "nbformat_minor": 5
}
