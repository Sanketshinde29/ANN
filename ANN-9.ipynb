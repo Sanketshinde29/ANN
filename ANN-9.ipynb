{
 "cells": [
  {
   "cell_type": "code",
   "execution_count": 1,
   "id": "238b04c5-ec02-49f2-b6ea-d312997e279b",
   "metadata": {},
   "outputs": [
    {
     "name": "stdout",
     "output_type": "stream",
     "text": [
      "Input pattern:      [ 1  1 -1 -1]\n",
      "Recalled pattern:   [ 1.  1. -1. -1.]\n",
      "\n",
      "Input pattern:      [-1 -1  1  1]\n",
      "Recalled pattern:   [-1. -1.  1.  1.]\n",
      "\n",
      "Input pattern:      [ 1 -1  1 -1]\n",
      "Recalled pattern:   [ 1. -1.  1. -1.]\n",
      "\n",
      "Input pattern:      [-1  1 -1  1]\n",
      "Recalled pattern:   [-1.  1. -1.  1.]\n",
      "\n"
     ]
    }
   ],
   "source": [
    "import numpy as np\n",
    "\n",
    "class HopfieldNetwork:\n",
    "    def __init__(self, n_neurons):\n",
    "        self.n_neurons = n_neurons\n",
    "        self.weights = np.zeros((n_neurons, n_neurons))\n",
    "\n",
    "    def train(self, patterns):\n",
    "        for pattern in patterns:\n",
    "            self.weights += np.outer(pattern, pattern)\n",
    "        np.fill_diagonal(self.weights, 0)\n",
    "\n",
    "    def predict(self, pattern, steps=5):\n",
    "        state = pattern.copy()\n",
    "        for _ in range(steps):\n",
    "            state = np.sign(np.dot(self.weights, state))\n",
    "            state[state == 0] = 1  # handle zeros\n",
    "        return state\n",
    "\n",
    "if __name__ == '__main__':\n",
    "    patterns = np.array([\n",
    "        [1, 1, -1, -1],\n",
    "        [-1, -1, 1, 1],\n",
    "        [1, -1, 1, -1],\n",
    "        [-1, 1, -1, 1]\n",
    "    ])\n",
    "\n",
    "    n_neurons = patterns.shape[1]\n",
    "    network = HopfieldNetwork(n_neurons)\n",
    "    network.train(patterns)\n",
    "\n",
    "    for pattern in patterns:\n",
    "        prediction = network.predict(pattern)\n",
    "        print('Input pattern:     ', pattern)\n",
    "        print('Recalled pattern:  ', prediction)\n",
    "        print()\n"
   ]
  },
  {
   "cell_type": "code",
   "execution_count": null,
   "id": "fcfd45af-e06c-427b-b1b2-2e96a385e141",
   "metadata": {},
   "outputs": [],
   "source": []
  }
 ],
 "metadata": {
  "kernelspec": {
   "display_name": "Python 3 (ipykernel)",
   "language": "python",
   "name": "python3"
  },
  "language_info": {
   "codemirror_mode": {
    "name": "ipython",
    "version": 3
   },
   "file_extension": ".py",
   "mimetype": "text/x-python",
   "name": "python",
   "nbconvert_exporter": "python",
   "pygments_lexer": "ipython3",
   "version": "3.12.7"
  }
 },
 "nbformat": 4,
 "nbformat_minor": 5
}
